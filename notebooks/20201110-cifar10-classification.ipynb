{
 "cells": [
  {
   "cell_type": "code",
   "execution_count": 1,
   "metadata": {},
   "outputs": [],
   "source": [
    "%load_ext autoreload\n",
    "%autoreload 2"
   ]
  },
  {
   "cell_type": "code",
   "execution_count": 109,
   "metadata": {},
   "outputs": [],
   "source": [
    "from sys import path\n",
    "\n",
    "import torch\n",
    "import torch.nn as nn\n",
    "import torch.nn.functional as F\n",
    "import torch.optim as optim\n",
    "from torch.utils.data import DataLoader, Dataset\n",
    "from torchvision.datasets import CIFAR10\n",
    "from torchvision.transforms import transforms\n",
    "\n",
    "\n",
    "import numpy as np\n",
    "import random\n",
    "from matplotlib import pyplot as plt\n",
    "from tqdm import tqdm"
   ]
  },
  {
   "cell_type": "code",
   "execution_count": 153,
   "metadata": {},
   "outputs": [
    {
     "data": {
      "text/plain": [
       "device(type='cuda')"
      ]
     },
     "execution_count": 153,
     "metadata": {},
     "output_type": "execute_result"
    }
   ],
   "source": [
    "device = torch.device('cuda' if torch.cuda.is_available() else 'cpu')\n",
    "device"
   ]
  },
  {
   "cell_type": "code",
   "execution_count": 3,
   "metadata": {},
   "outputs": [],
   "source": [
    "PROJECT_PATH = \"E:\\\\Projects\\\\pytorch_beginner\"\n",
    "path.append(f\"{PROJECT_PATH}\\\\src\")\n",
    "DATA_PATH = f\"{PROJECT_PATH}\\\\data\""
   ]
  },
  {
   "cell_type": "code",
   "execution_count": 126,
   "metadata": {},
   "outputs": [],
   "source": [
    "class CustomDataset(Dataset):\n",
    "    \"\"\"https://pytorch.org/tutorials/beginner/data_loading_tutorial.html\"\"\"\n",
    "    def __init__(self, dataset, transform = None):\n",
    "        self.dataset = dataset\n",
    "        self.transform = transform\n",
    "        \n",
    "    def __len__(self):\n",
    "        return self.dataset.data.shape[0]\n",
    "    \n",
    "    def __getitem__(self, idx):\n",
    "        if torch.is_tensor(idx):\n",
    "            idx = idx.tolist()\n",
    "            \n",
    "        sample, y = self.dataset.data[idx], self.dataset.targets[idx]\n",
    "        \n",
    "        if self.transform:\n",
    "            sample = self.transform(sample)\n",
    "        \n",
    "        return (sample, y)"
   ]
  },
  {
   "cell_type": "code",
   "execution_count": 198,
   "metadata": {},
   "outputs": [],
   "source": [
    "BATCH_SIZE = 2480\n",
    "LEARNING_RATE = 1e-3\n",
    "NUM_EPOCHS = 10"
   ]
  },
  {
   "cell_type": "code",
   "execution_count": 182,
   "metadata": {},
   "outputs": [
    {
     "name": "stdout",
     "output_type": "stream",
     "text": [
      "Files already downloaded and verified\n",
      "Files already downloaded and verified\n",
      "Type : torchvision.datasets.cifar.CIFAR10\n"
     ]
    }
   ],
   "source": [
    "train_data = CIFAR10(root = DATA_PATH, train = True, download = True)\n",
    "test_data = CIFAR10(root = DATA_PATH, train = False, download = True)\n",
    "print(f\"Type : {type(train_data)}\")\n",
    "\n",
    "# composing multiple transforms into single transform\n",
    "trfms = transforms.Compose([transforms.ToTensor()])\n",
    "\n",
    "# to apply transformation on data after loading it\n",
    "train_data = CustomDataset(dataset = train_data, transform = trfms)\n",
    "test_data = CustomDataset(dataset = test_data, transform = trfms)"
   ]
  },
  {
   "cell_type": "code",
   "execution_count": 183,
   "metadata": {},
   "outputs": [
    {
     "name": "stdout",
     "output_type": "stream",
     "text": [
      "10 Classes : ['airplane', 'automobile', 'bird', 'cat', 'deer', 'dog', 'frog', 'horse', 'ship', 'truck']\n"
     ]
    }
   ],
   "source": [
    "print(f\"{len(train_data.dataset.classes)} Classes : {train_data.dataset.classes}\")"
   ]
  },
  {
   "cell_type": "code",
   "execution_count": 184,
   "metadata": {},
   "outputs": [
    {
     "name": "stdout",
     "output_type": "stream",
     "text": [
      "No. of channels : 3, img size : torch.Size([32, 32])\n",
      "Image shape : torch.Size([3, 32, 32])\n"
     ]
    }
   ],
   "source": [
    "img_shape = train_data[0][0].size()\n",
    "print(f\"No. of channels : {img_shape[0]}, img size : {img_shape[1:]}\")\n",
    "print(f\"Image shape : {img_shape}\")"
   ]
  },
  {
   "cell_type": "code",
   "execution_count": 185,
   "metadata": {},
   "outputs": [
    {
     "data": {
      "text/plain": [
       "<matplotlib.image.AxesImage at 0x2e9945f7550>"
      ]
     },
     "execution_count": 185,
     "metadata": {},
     "output_type": "execute_result"
    },
    {
     "data": {
      "image/png": "[encoded data removed]",
      "text/plain": [
       "<Figure size 432x288 with 1 Axes>"
      ]
     },
     "metadata": {
      "needs_background": "light"
     },
     "output_type": "display_data"
    }
   ],
   "source": [
    "i = 4\n",
    "# transpose to change image shape from channels * height * width to height * width * channels\n",
    "plt.imshow(np.transpose(train_data[i][0].numpy(), \n",
    "                        axes = (1,2,0))) "
   ]
  },
  {
   "cell_type": "code",
   "execution_count": 193,
   "metadata": {},
   "outputs": [],
   "source": [
    "# https://pytorch.org/docs/stable/data.html\n",
    "# DataLoader supports automatically collating individual fetched\n",
    "# data samples into batches via arguments batch_size, drop_last, and batch_sampler.\n",
    "# Dataloader can be used to create fixed size batches of randomly shuffled data. \n",
    "# Note: when shuffle is set to True then every time dataloader is initialized, \n",
    "# randomly shuffle data is produced. No argument is there to set random state to \n",
    "# reproduce same batches of exactly shuffled data.\n",
    "train_loader = DataLoader(dataset = train_data, batch_size = BATCH_SIZE, shuffle = True)\n",
    "test_loader = DataLoader(dataset = test_data, batch_size = BATCH_SIZE, shuffle = False)"
   ]
  },
  {
   "cell_type": "markdown",
   "metadata": {},
   "source": [
    "$ W_{out} = \\frac{W_{in} - F + 2P}{S} + 1 $\n",
    "\n",
    "$ W_{out} $ is output image width\n",
    "\n",
    "$ W_{in} $ is input image width\n",
    "\n",
    "$ F $ is kernel size \n",
    "\n",
    "$ P $ is padding\n",
    "\n",
    "$ S $ is stride "
   ]
  },
  {
   "cell_type": "code",
   "execution_count": 187,
   "metadata": {},
   "outputs": [],
   "source": [
    "class Net(nn.Module):\n",
    "    def __init__(self):\n",
    "        super().__init__() # calling __init__ of nn.Module\n",
    "    \n",
    "        # 3 * 32 * 32 -> 6 * 28 * 28 \n",
    "        self.conv1 = nn.Conv2d(\n",
    "            in_channels = 3, \n",
    "            out_channels = 6,\n",
    "            kernel_size = (5, 5))\n",
    "        \n",
    "        # 6 * 28 * 28 -> 6 * 14 * 14\n",
    "        self.maxpool = nn.MaxPool2d(kernel_size = (2, 2)) \n",
    "        \n",
    "        # 6 * 14 * 14 -> 12 * 12 * 12 -> 12 * 6 * 6\n",
    "        self.conv2 = nn.Conv2d(\n",
    "            in_channels = 6,\n",
    "            out_channels = 12, \n",
    "            kernel_size = (3,3))\n",
    "        \n",
    "        # 12 * 6 * 6 -> 256\n",
    "        self.fc1 = nn.Linear(\n",
    "            in_features = 12 * 6 * 6, \n",
    "            out_features = 256)\n",
    "        \n",
    "        # 256 -> 128\n",
    "        self.fc2 = nn.Linear(\n",
    "            in_features = 256, \n",
    "            out_features = 128)\n",
    "        \n",
    "        # final output layer, 10 classes\n",
    "        # 128 -> 10\n",
    "        self.fc3 = nn.Linear(\n",
    "            in_features = 128, \n",
    "            out_features = 10)\n",
    "        \n",
    "    def forward(self, X):\n",
    "        X = F.relu(self.conv1(X))\n",
    "        X = self.maxpool(X)\n",
    "        X = F.relu(self.conv2(X))\n",
    "        X = self.maxpool(X)\n",
    "        X = self.flatten(X)\n",
    "        X = F.relu(self.fc1(X))\n",
    "        X = F.relu(self.fc2(X))\n",
    "        X = self.fc3(X)\n",
    "        return X\n",
    "        \n",
    "    def flatten(self, X):\n",
    "        size = X.size()[1:] # single data size\n",
    "        size = torch.prod(torch.tensor(size)) # flattening\n",
    "        return X.view(-1, size)"
   ]
  },
  {
   "cell_type": "code",
   "execution_count": 199,
   "metadata": {},
   "outputs": [],
   "source": [
    "model = Net()\n",
    "model.to(device)\n",
    "loss_func = nn.CrossEntropyLoss()\n",
    "optimizer = optim.Adam(params = model.parameters(), lr = LEARNING_RATE)"
   ]
  },
  {
   "cell_type": "code",
   "execution_count": 200,
   "metadata": {},
   "outputs": [
    {
     "name": "stderr",
     "output_type": "stream",
     "text": [
      "loss :  57.17: 100%|███████████████████████████████████████████████████████████████████| 10/10 [01:09<00:00,  6.94s/it]\n"
     ]
    }
   ],
   "source": [
    "total_batches = len(train_loader)\n",
    "t = tqdm(range(NUM_EPOCHS))\n",
    "for epoch in t:\n",
    "    epoch_loss = 0.0 # to track loss over all batches\n",
    "    for i, batch in enumerate(train_loader):\n",
    "        \n",
    "        # get the inputs; data is a list of [inputs, labels]\n",
    "        x, y = batch\n",
    "        x, y = x.to(device), y.to(device) \n",
    "\n",
    "        # zero the parameter gradients\n",
    "        optimizer.zero_grad()\n",
    "        \n",
    "        y_pred = model.forward(x) # forward\n",
    "        loss = loss_func(y_pred, y) \n",
    "        loss.backward() # backward\n",
    "        optimizer.step() # optimize\n",
    "        \n",
    "        epoch_loss += loss.item() # accumulating loss over all batches\n",
    "        \n",
    "    t.set_description(f\"loss : {epoch_loss : .2f}\")"
   ]
  },
  {
   "cell_type": "code",
   "execution_count": 201,
   "metadata": {},
   "outputs": [
    {
     "name": "stderr",
     "output_type": "stream",
     "text": [
      "8it [00:00, 13.41it/s]\n"
     ]
    }
   ],
   "source": [
    "acc = []\n",
    "for i, batch in tqdm(enumerate(test_loader)):\n",
    "    x, y = batch\n",
    "    x, y = x.to(device), y.to(device)\n",
    "    y_pred = model.forward(x)\n",
    "    y_pred = torch.argmax(y_pred, dim = 1)\n",
    "    acc.append(torch.sum(y == y_pred))"
   ]
  },
  {
   "cell_type": "code",
   "execution_count": 202,
   "metadata": {},
   "outputs": [
    {
     "data": {
      "text/plain": [
       "tensor(0.2337, device='cuda:0')"
      ]
     },
     "execution_count": 202,
     "metadata": {},
     "output_type": "execute_result"
    }
   ],
   "source": [
    "np.sum(acc) / (len(test_loader) * BATCH_SIZE)"
   ]
  },
  {
   "cell_type": "code",
   "execution_count": null,
   "metadata": {},
   "outputs": [],
   "source": []
  }
 ],
 "metadata": {
  "kernelspec": {
   "display_name": "pytorch_beginner",
   "language": "python",
   "name": "pytorch_beginner"
  },
  "language_info": {
   "codemirror_mode": {
    "name": "ipython",
    "version": 3
   },
   "file_extension": ".py",
   "mimetype": "text/x-python",
   "name": "python",
   "nbconvert_exporter": "python",
   "pygments_lexer": "ipython3",
   "version": "3.6.11"
  }
 },
 "nbformat": 4,
 "nbformat_minor": 4
}
